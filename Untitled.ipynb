{
 "cells": [
  {
   "cell_type": "code",
   "execution_count": 2,
   "id": "490ae83d-f5b6-46f9-9239-936153b21d2b",
   "metadata": {},
   "outputs": [
    {
     "name": "stdout",
     "output_type": "stream",
     "text": [
      "          Car       Model  Volume  Weight  CO2\n",
      "0      Toyoty        Aygo    1000     790   99\n",
      "1  Mitsubishi  Space Star    1200    1160   95\n",
      "2       Skoda      Citigo    1000     929   95\n",
      "3        Fiat         500     900     865   90\n",
      "4        Mini      Cooper    1500    1140  105\n",
      "5          VW         Up!    1000     929  105\n",
      "6       Skoda       Fabia    1400    1109   90\n",
      "7    Mercedes     A-Class    1500    1365   92\n",
      "8        Ford      Fiesta    1500    1112   98\n",
      "9        Audi          A1    1600    1150   99\n",
      "         Car   Model  Volume  Weight  CO2\n",
      "31     Volvo    XC70    2000    1746  117\n",
      "32      Ford   B-Max    1600    1235  104\n",
      "33       BMW     216    1600    1390  108\n",
      "34      Opel  Zafira    1600    1405  109\n",
      "35  Mercedes     SLK    2500    1395  120\n",
      "rows 36\n",
      "columns 5\n"
     ]
    }
   ],
   "source": [
    "import pandas as pd\n",
    "df = pd.read_csv('cars.csv')\n",
    "print(df.head(10))\n",
    "print(df.tail())\n",
    "print(\"rows\",len(df.axes[0]))\n",
    "print(\"columns\",len(df.axes[1]))"
   ]
  },
  {
   "cell_type": "code",
   "execution_count": null,
   "id": "2dcd4b70-0940-46a8-a516-66a264aeb20a",
   "metadata": {},
   "outputs": [],
   "source": []
  }
 ],
 "metadata": {
  "kernelspec": {
   "display_name": "Python 3 (ipykernel)",
   "language": "python",
   "name": "python3"
  },
  "language_info": {
   "codemirror_mode": {
    "name": "ipython",
    "version": 3
   },
   "file_extension": ".py",
   "mimetype": "text/x-python",
   "name": "python",
   "nbconvert_exporter": "python",
   "pygments_lexer": "ipython3",
   "version": "3.9.12"
  }
 },
 "nbformat": 4,
 "nbformat_minor": 5
}
